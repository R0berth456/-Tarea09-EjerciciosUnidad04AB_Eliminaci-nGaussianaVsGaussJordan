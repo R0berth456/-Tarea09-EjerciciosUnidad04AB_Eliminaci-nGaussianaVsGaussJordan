{
  "cells": [
    {
      "cell_type": "markdown",
      "metadata": {
        "id": "view-in-github",
        "colab_type": "text"
      },
      "source": [
        "<a href=\"https://colab.research.google.com/github/R0berth456/-Tarea09-EjerciciosUnidad04AB_Eliminaci-nGaussianaVsGaussJordan/blob/main/%5BTarea09%5D_EjerciciosUnidad04AB_Eliminaci%C3%B3nGaussianaVsGaussJordan.ipynb\" target=\"_parent\"><img src=\"https://colab.research.google.com/assets/colab-badge.svg\" alt=\"Open In Colab\"/></a>"
      ]
    },
    {
      "cell_type": "markdown",
      "metadata": {
        "id": "gOLXLdRRsAZX"
      },
      "source": [
        "Segundo Literal"
      ]
    },
    {
      "cell_type": "markdown",
      "source": [
        "a)\n",
        "–X1 + 4X2 + X3 = 8\\\n",
        "    5/3X1 + 2/3X2 + 2/3X3 = 1\\\n",
        "   2X1 + X2 + 4X3 = 11\n"
      ],
      "metadata": {
        "id": "rsueAk9HWjK9"
      }
    },
    {
      "cell_type": "code",
      "source": [
        "import numpy as np\n",
        "A = [\n",
        "    [-1, 4, 1],\n",
        "    [round(5/3, 2), round(2/3, 2), round(2/3, 2)],\n",
        "    [2, 1, 4]\n",
        "]\n",
        "\n",
        "b = [8, 1, 11]\n",
        "\n",
        "x = np.linalg.solve(A, b)\n",
        "x"
      ],
      "metadata": {
        "colab": {
          "base_uri": "https://localhost:8080/"
        },
        "id": "UNuuggvMWggJ",
        "outputId": "b25009fb-108a-402f-c9de-24285d833c72"
      },
      "execution_count": 2,
      "outputs": [
        {
          "output_type": "execute_result",
          "data": {
            "text/plain": [
              "array([-1.00651042,  0.99739583,  3.00390625])"
            ]
          },
          "metadata": {},
          "execution_count": 2
        }
      ]
    },
    {
      "cell_type": "markdown",
      "source": [
        "b) 4X1 + 2X2 – X3 = -5\\\n",
        "    1/9X1 + 1/9X2 – 1/3X3 = -1\\\n",
        "      X1 + 4X2 + 2X3 = 9\n"
      ],
      "metadata": {
        "id": "wqIAo2C-YVWy"
      }
    },
    {
      "cell_type": "code",
      "source": [
        "import numpy as np\n",
        "\n",
        "A = [\n",
        "    [4, 2, -1],\n",
        "    [round(1/9, 2), round(1/9, 2), round(1/3, 2)],\n",
        "    [1, 4, 2]\n",
        "]\n",
        "\n",
        "b = [-5, -1, 9]\n",
        "\n",
        "x = np.linalg.solve(A, b)\n",
        "x"
      ],
      "metadata": {
        "colab": {
          "base_uri": "https://localhost:8080/"
        },
        "id": "IJn8lnWIYeIP",
        "outputId": "3da4f001-3d68-4edf-a309-65587d2f11c8"
      },
      "execution_count": 3,
      "outputs": [
        {
          "output_type": "execute_result",
          "data": {
            "text/plain": [
              "array([-4.52993348,  4.97117517, -3.17738359])"
            ]
          },
          "metadata": {},
          "execution_count": 3
        }
      ]
    },
    {
      "cell_type": "markdown",
      "source": [
        "Tercer Literal"
      ],
      "metadata": {
        "id": "OY8NPCVLZY08"
      }
    },
    {
      "cell_type": "code",
      "source": [
        "#Algoritmo utilizado\n",
        "import numpy as np\n",
        "def eliminacion_gaussiana(A: np.ndarray) -> np.ndarray:\n",
        "    A = np.array(A)\n",
        "    assert A.shape[0] == A.shape[1] - 1, \"La matriz A debe ser de tamaño n-by-(n+1).\"\n",
        "    n = A.shape[0]\n",
        "\n",
        "    for i in range(0, n - 1):  # loop por columna\n",
        "\n",
        "        # --- encontrar pivote\n",
        "        p = None  # default, first element\n",
        "        for pi in range(i, n):\n",
        "            if A[pi, i] == 0:\n",
        "                # must be nonzero\n",
        "                continue\n",
        "\n",
        "            if p is None:\n",
        "                # first nonzero element\n",
        "                p = pi\n",
        "                continue\n",
        "\n",
        "            if abs(A[pi, i]) < abs(A[p, i]):\n",
        "                p = pi\n",
        "\n",
        "        if p is None:\n",
        "            # no pivot found.\n",
        "            raise ValueError(\"No existe solución única.\")\n",
        "\n",
        "        if p != i:\n",
        "            # swap rows\n",
        "            print(f\"Intercambiando filas {i} y {p}\")\n",
        "            _aux = A[i, :].copy()\n",
        "            A[i, :] = A[p, :].copy()\n",
        "            A[p, :] = _aux\n",
        "\n",
        "        # --- Eliminación: loop por fila\n",
        "        for j in range(i + 1, n):\n",
        "            m = A[j, i] / A[i, i]\n",
        "            A[j, i:] = A[j, i:] - m * A[i, i:]\n",
        "\n",
        "\n",
        "    if A[n - 1, n - 1] == 0:\n",
        "        raise ValueError(\"No existe solución única.\")\n",
        "\n",
        "        print(f\"\\n{A}\")\n",
        "    # --- Sustitución hacia atrás\n",
        "    solucion = np.zeros(n)\n",
        "    solucion[n - 1] = A[n - 1, n] / A[n - 1, n - 1]\n",
        "\n",
        "    for i in range(n - 2, -1, -1):\n",
        "        suma = 0\n",
        "        for j in range(i + 1, n):\n",
        "            suma += A[i, j] * solucion[j]\n",
        "        solucion[i] = (A[i, n] - suma) / A[i, i]\n",
        "\n",
        "    return solucion"
      ],
      "metadata": {
        "id": "3eAQbRulajkG"
      },
      "execution_count": 4,
      "outputs": []
    },
    {
      "cell_type": "markdown",
      "source": [
        "a) X1 – X2 + 3X3 = 2\\\n",
        "    3X1 – 3X2 + X3 = -1\\\n",
        "     X1 + X2 = 3\n"
      ],
      "metadata": {
        "id": "P6jJSNB4ZdwT"
      }
    },
    {
      "cell_type": "code",
      "source": [
        "A = [[1, -1, 3, 2], [3, -3, 1, -1], [1, 1, 0, 3]]\n",
        "x = eliminacion_gaussiana(A)\n",
        "x"
      ],
      "metadata": {
        "colab": {
          "base_uri": "https://localhost:8080/"
        },
        "id": "Y1iyAgoSZard",
        "outputId": "d2b7ada9-e28a-45c6-9e76-ab2aa66c5f9f"
      },
      "execution_count": 5,
      "outputs": [
        {
          "output_type": "stream",
          "name": "stdout",
          "text": [
            "Intercambiando filas 1 y 2\n"
          ]
        },
        {
          "output_type": "execute_result",
          "data": {
            "text/plain": [
              "array([1.1875, 1.8125, 0.875 ])"
            ]
          },
          "metadata": {},
          "execution_count": 5
        }
      ]
    },
    {
      "cell_type": "markdown",
      "source": [
        "b) 2X1 – 1.5X2 + 3X3 = 1\\\n",
        "-X1 + 2X3 = 3\\\n",
        "4X1 – 4.5X2 + 5X3 = 1\n"
      ],
      "metadata": {
        "id": "gijxzMFwbKLh"
      }
    },
    {
      "cell_type": "code",
      "source": [
        "A = [[2, -1.5, 3, 1], [-1, 0, 2, 3], [4, -4.5, 5, 1]]\n",
        "x = eliminacion_gaussiana(A)\n",
        "x\n"
      ],
      "metadata": {
        "colab": {
          "base_uri": "https://localhost:8080/"
        },
        "id": "VoJufIJabNK5",
        "outputId": "a3976c29-5a13-4e21-b7b3-07ffd135b7b9"
      },
      "execution_count": 6,
      "outputs": [
        {
          "output_type": "stream",
          "name": "stdout",
          "text": [
            "Intercambiando filas 0 y 1\n"
          ]
        },
        {
          "output_type": "execute_result",
          "data": {
            "text/plain": [
              "array([-1., -0.,  1.])"
            ]
          },
          "metadata": {},
          "execution_count": 6
        }
      ]
    },
    {
      "cell_type": "markdown",
      "source": [
        "c) 2X1 = 3\\\n",
        "X1 + 1.5X2 = 4.5\\\n",
        "-3X2 + 0.5X3 = -6.6\\\n",
        "2X1 – 2X2 + X3 + X4 = 0.8\n"
      ],
      "metadata": {
        "id": "VkTxXU62bd5E"
      }
    },
    {
      "cell_type": "code",
      "source": [
        "A = [[2, 0, 0, 0, 3], [1, 1.5, 0, 0, 4.5], [0, -3, 0.5, 0, -6.6], [2, -2, 1, 1, 0.8]]\n",
        "x = eliminacion_gaussiana(A)\n",
        "x\n"
      ],
      "metadata": {
        "colab": {
          "base_uri": "https://localhost:8080/"
        },
        "id": "E_1DhodAbigq",
        "outputId": "69ffc266-3c18-4b00-fa36-cf7c9ac8ffb1"
      },
      "execution_count": 7,
      "outputs": [
        {
          "output_type": "stream",
          "name": "stdout",
          "text": [
            "Intercambiando filas 0 y 1\n"
          ]
        },
        {
          "output_type": "execute_result",
          "data": {
            "text/plain": [
              "array([ 1.5,  2. , -1.2,  3. ])"
            ]
          },
          "metadata": {},
          "execution_count": 7
        }
      ]
    },
    {
      "cell_type": "markdown",
      "source": [
        "d) X1 + X2 + X4 = 2\\\n",
        "2X1 + X2 – X3 +X4 = 1\\\n",
        "4X1 – X2 – 2X3 + 2X4 = 0\\\n",
        "3X1 – X2 – X3 + 2X4 = -3\n"
      ],
      "metadata": {
        "id": "5Of5yl_Ib4HS"
      }
    },
    {
      "cell_type": "code",
      "source": [
        "A = [[1, 1, 0, 1, 2], [2, 1, -1, 1, 1], [4, -1, -2, 2, 0], [3, -1, -1, 2, -3]]\n",
        "x = eliminacion_gaussiana(A)\n",
        "x"
      ],
      "metadata": {
        "colab": {
          "base_uri": "https://localhost:8080/",
          "height": 297
        },
        "id": "Q3_bYqEob770",
        "outputId": "9dab66c2-8e78-431a-ec9c-f7dd75f0911d"
      },
      "execution_count": 8,
      "outputs": [
        {
          "output_type": "error",
          "ename": "ValueError",
          "evalue": "No existe solución única.",
          "traceback": [
            "\u001b[0;31m---------------------------------------------------------------------------\u001b[0m",
            "\u001b[0;31mValueError\u001b[0m                                Traceback (most recent call last)",
            "\u001b[0;32m<ipython-input-8-500298865603>\u001b[0m in \u001b[0;36m<cell line: 2>\u001b[0;34m()\u001b[0m\n\u001b[1;32m      1\u001b[0m \u001b[0mA\u001b[0m \u001b[0;34m=\u001b[0m \u001b[0;34m[\u001b[0m\u001b[0;34m[\u001b[0m\u001b[0;36m1\u001b[0m\u001b[0;34m,\u001b[0m \u001b[0;36m1\u001b[0m\u001b[0;34m,\u001b[0m \u001b[0;36m0\u001b[0m\u001b[0;34m,\u001b[0m \u001b[0;36m1\u001b[0m\u001b[0;34m,\u001b[0m \u001b[0;36m2\u001b[0m\u001b[0;34m]\u001b[0m\u001b[0;34m,\u001b[0m \u001b[0;34m[\u001b[0m\u001b[0;36m2\u001b[0m\u001b[0;34m,\u001b[0m \u001b[0;36m1\u001b[0m\u001b[0;34m,\u001b[0m \u001b[0;34m-\u001b[0m\u001b[0;36m1\u001b[0m\u001b[0;34m,\u001b[0m \u001b[0;36m1\u001b[0m\u001b[0;34m,\u001b[0m \u001b[0;36m1\u001b[0m\u001b[0;34m]\u001b[0m\u001b[0;34m,\u001b[0m \u001b[0;34m[\u001b[0m\u001b[0;36m4\u001b[0m\u001b[0;34m,\u001b[0m \u001b[0;34m-\u001b[0m\u001b[0;36m1\u001b[0m\u001b[0;34m,\u001b[0m \u001b[0;34m-\u001b[0m\u001b[0;36m2\u001b[0m\u001b[0;34m,\u001b[0m \u001b[0;36m2\u001b[0m\u001b[0;34m,\u001b[0m \u001b[0;36m0\u001b[0m\u001b[0;34m]\u001b[0m\u001b[0;34m,\u001b[0m \u001b[0;34m[\u001b[0m\u001b[0;36m3\u001b[0m\u001b[0;34m,\u001b[0m \u001b[0;34m-\u001b[0m\u001b[0;36m1\u001b[0m\u001b[0;34m,\u001b[0m \u001b[0;34m-\u001b[0m\u001b[0;36m1\u001b[0m\u001b[0;34m,\u001b[0m \u001b[0;36m2\u001b[0m\u001b[0;34m,\u001b[0m \u001b[0;34m-\u001b[0m\u001b[0;36m3\u001b[0m\u001b[0;34m]\u001b[0m\u001b[0;34m]\u001b[0m\u001b[0;34m\u001b[0m\u001b[0;34m\u001b[0m\u001b[0m\n\u001b[0;32m----> 2\u001b[0;31m \u001b[0mx\u001b[0m \u001b[0;34m=\u001b[0m \u001b[0meliminacion_gaussiana\u001b[0m\u001b[0;34m(\u001b[0m\u001b[0mA\u001b[0m\u001b[0;34m)\u001b[0m\u001b[0;34m\u001b[0m\u001b[0;34m\u001b[0m\u001b[0m\n\u001b[0m\u001b[1;32m      3\u001b[0m \u001b[0mx\u001b[0m\u001b[0;34m\u001b[0m\u001b[0;34m\u001b[0m\u001b[0m\n",
            "\u001b[0;32m<ipython-input-4-884274602933>\u001b[0m in \u001b[0;36meliminacion_gaussiana\u001b[0;34m(A)\u001b[0m\n\u001b[1;32m     41\u001b[0m \u001b[0;34m\u001b[0m\u001b[0m\n\u001b[1;32m     42\u001b[0m     \u001b[0;32mif\u001b[0m \u001b[0mA\u001b[0m\u001b[0;34m[\u001b[0m\u001b[0mn\u001b[0m \u001b[0;34m-\u001b[0m \u001b[0;36m1\u001b[0m\u001b[0;34m,\u001b[0m \u001b[0mn\u001b[0m \u001b[0;34m-\u001b[0m \u001b[0;36m1\u001b[0m\u001b[0;34m]\u001b[0m \u001b[0;34m==\u001b[0m \u001b[0;36m0\u001b[0m\u001b[0;34m:\u001b[0m\u001b[0;34m\u001b[0m\u001b[0;34m\u001b[0m\u001b[0m\n\u001b[0;32m---> 43\u001b[0;31m         \u001b[0;32mraise\u001b[0m \u001b[0mValueError\u001b[0m\u001b[0;34m(\u001b[0m\u001b[0;34m\"No existe solución única.\"\u001b[0m\u001b[0;34m)\u001b[0m\u001b[0;34m\u001b[0m\u001b[0;34m\u001b[0m\u001b[0m\n\u001b[0m\u001b[1;32m     44\u001b[0m \u001b[0;34m\u001b[0m\u001b[0m\n\u001b[1;32m     45\u001b[0m         \u001b[0mprint\u001b[0m\u001b[0;34m(\u001b[0m\u001b[0;34mf\"\\n{A}\"\u001b[0m\u001b[0;34m)\u001b[0m\u001b[0;34m\u001b[0m\u001b[0;34m\u001b[0m\u001b[0m\n",
            "\u001b[0;31mValueError\u001b[0m: No existe solución única."
          ]
        }
      ]
    },
    {
      "cell_type": "markdown",
      "source": [
        "Cuarto Literal"
      ],
      "metadata": {
        "id": "Vuz9OCxdcjyM"
      }
    },
    {
      "cell_type": "code",
      "source": [
        "def eliminacion_gaussiana(A: np.ndarray) -> np.ndarray:\n",
        "    A = np.array(A)\n",
        "\n",
        "    assert A.shape[0] == A.shape[1] - 1, \"La matriz A debe ser de tamaño n-by-(n+1).\"\n",
        "    n = A.shape[0]\n",
        "\n",
        "    for i in range(0, n - 1):  # loop por columna\n",
        "\n",
        "        # --- encontrar pivote\n",
        "        p = None  # default, first element\n",
        "        for pi in range(i, n):\n",
        "            if A[pi, i] == 0:\n",
        "                # must be nonzero\n",
        "                continue\n",
        "\n",
        "            if p is None:\n",
        "                # first nonzero element\n",
        "                p = pi\n",
        "                continue\n",
        "\n",
        "            if abs(A[pi, i]) < abs(A[p, i]):\n",
        "                p = pi\n",
        "\n",
        "        if p is None:\n",
        "            # no pivot found.\n",
        "            raise ValueError(\"No existe solución única.\")\n",
        "\n",
        "        if p != i:\n",
        "            # swap rows\n",
        "            print(f\"Intercambiando filas {i} y {p}\")\n",
        "            _aux = A[i, :].copy()\n",
        "            A[i, :] = A[p, :].copy()\n",
        "            A[p, :] = _aux\n",
        "\n",
        "        # --- Eliminación: loop por fila\n",
        "        for j in range(i + 1, n):\n",
        "            m = A[j, i] / A[i, i]\n",
        "            A[j, i:] = A[j, i:] - m * A[i, i:]\n",
        "\n",
        "    if A[n - 1, n - 1] == 0:\n",
        "        raise ValueError(\"No existe solución única.\")\n",
        "\n",
        "    # --- Sustitución hacia atrás\n",
        "    solucion = np.zeros(n, dtype=np.float32)\n",
        "    solucion[n - 1] = A[n - 1, n] / A[n - 1, n - 1]\n",
        "\n",
        "    for i in range(n - 2, -1, -1):\n",
        "        suma = 0\n",
        "        for j in range(i + 1, n):\n",
        "            suma += A[i, j] * solucion[j]\n",
        "        solucion[i] = (A[i, n] - suma) / A[i, i]\n",
        "\n",
        "    return solucion\n"
      ],
      "metadata": {
        "id": "OlScevztc5j9"
      },
      "execution_count": 9,
      "outputs": []
    },
    {
      "cell_type": "markdown",
      "source": [
        "a) 1/4X1 + 1/5X2 + 1/6X3 = 9\\\n",
        "1/3X1 + 1/4X2 + 1/5X3 = 8\\\n",
        "1/2X1 + X2 + 2X3 = 8\n"
      ],
      "metadata": {
        "id": "BJ6NqFTUcp6u"
      }
    },
    {
      "cell_type": "code",
      "source": [
        "A = np.array([[1/4, 1/5, 1/6, 9], [1/3, 1/4, 1/5, 8], [1/2, 1, 2, 8]], dtype=np.float32)\n",
        "solucion = eliminacion_gaussiana(A)\n",
        "solucion"
      ],
      "metadata": {
        "colab": {
          "base_uri": "https://localhost:8080/"
        },
        "id": "R16r2uGSclvW",
        "outputId": "9a25f581-06ba-4c35-93d2-6b2b825860b9"
      },
      "execution_count": 10,
      "outputs": [
        {
          "output_type": "execute_result",
          "data": {
            "text/plain": [
              "array([-227.07666,  476.92264, -177.69217], dtype=float32)"
            ]
          },
          "metadata": {},
          "execution_count": 10
        }
      ]
    },
    {
      "cell_type": "markdown",
      "source": [
        "b) 3.333X1 + 15920X2 – 10.333X3 = 15913\\\n",
        "2.222X1 + 16.71X2 + 9.612X3 = 28.544\\\n",
        "1.5611X1 + 5.1791X2 + 1.6852X3 = 8.4254\n"
      ],
      "metadata": {
        "id": "MmPvvDlqe9fn"
      }
    },
    {
      "cell_type": "code",
      "source": [
        "A = np.array([[3.333, 15920, 10.333, 15913], [2.222, 16.71, 9.612, 28.544], [1.5611, 5.1791, 1.6852, 8.4254]], dtype=np.float32)\n",
        "solucion = eliminacion_gaussiana(A)\n",
        "solucion"
      ],
      "metadata": {
        "colab": {
          "base_uri": "https://localhost:8080/"
        },
        "id": "EHk5AR8dfAmH",
        "outputId": "7090d06a-cc54-470b-f204-513cd1352c79"
      },
      "execution_count": 11,
      "outputs": [
        {
          "output_type": "stream",
          "name": "stdout",
          "text": [
            "Intercambiando filas 0 y 2\n"
          ]
        },
        {
          "output_type": "execute_result",
          "data": {
            "text/plain": [
              "array([1.0024954, 0.9987004, 1.0016824], dtype=float32)"
            ]
          },
          "metadata": {},
          "execution_count": 11
        }
      ]
    },
    {
      "cell_type": "markdown",
      "source": [
        "c) X1 + 1/2X2 + 1/3X3 + 1/4X4 = 1/6\\\n",
        "1/2X1 + 1/3X2 + 1/4X3 + 1/5X4 = 1/7\\\n",
        "1/3X1 + 1/4X2 + 1/5X3 + 1/6X4 = 1/8\\\n",
        "1/4X1 + 1/5X2 + 1/6X3 + 1/7X4 = 1/9\n"
      ],
      "metadata": {
        "id": "F5CT-LRMfP1O"
      }
    },
    {
      "cell_type": "code",
      "source": [
        "A = np.array([[1, 1/2, 1/3, 1/4, 1/6], [1/2, 1/3, 1/4, 1/5, 1/7], [1/3, 1/4, 1/5, 1/6, 1/8], [1/4, 1/5, 1/6, 1/7, 1/9]], dtype=np.float32)\n",
        "solucion = eliminacion_gaussiana(A)\n",
        "solucion"
      ],
      "metadata": {
        "colab": {
          "base_uri": "https://localhost:8080/"
        },
        "id": "mLOukDGefT0w",
        "outputId": "addb512e-8f7f-472c-8992-ef6b7bec1008"
      },
      "execution_count": 12,
      "outputs": [
        {
          "output_type": "stream",
          "name": "stdout",
          "text": [
            "Intercambiando filas 0 y 3\n",
            "Intercambiando filas 1 y 2\n"
          ]
        },
        {
          "output_type": "execute_result",
          "data": {
            "text/plain": [
              "array([-0.03174073,  0.5951853 , -2.3808312 ,  2.7777011 ], dtype=float32)"
            ]
          },
          "metadata": {},
          "execution_count": 12
        }
      ]
    },
    {
      "cell_type": "markdown",
      "source": [
        "d) 2X1 + X2 – X3 + X4 – 3X5 = 7\\\n",
        "X1 + 2X3 – X4 + X5 = 2\\\n",
        "-2X2 – X3 + X4 – X5 = -5\\\n",
        "3X1 + X2 – 4X3 + 5X5 = 6\\\n",
        "X1 – X2 – X3 – X4 + X5 = -3\n"
      ],
      "metadata": {
        "id": "Han8TP-ufk-F"
      }
    },
    {
      "cell_type": "code",
      "source": [
        "A = np.array([[2, 1, -1, 1, -3, 7], [1, 0, 2, -1, 1, 2], [0, -2, -1, 1, -1, -5], [3, 1, -4, 0, 5, 6],[1, -1, -1, -1, 1, -3]], dtype=np.float32)\n",
        "solucion = eliminacion_gaussiana(A)\n",
        "solucion\n"
      ],
      "metadata": {
        "colab": {
          "base_uri": "https://localhost:8080/"
        },
        "id": "sVdofmJ6fpx4",
        "outputId": "0e61bbee-544a-4341-dac6-eb927cae2b4f"
      },
      "execution_count": 13,
      "outputs": [
        {
          "output_type": "stream",
          "name": "stdout",
          "text": [
            "Intercambiando filas 0 y 1\n",
            "Intercambiando filas 2 y 3\n",
            "Intercambiando filas 3 y 4\n"
          ]
        },
        {
          "output_type": "execute_result",
          "data": {
            "text/plain": [
              "array([1.883041  , 2.8070176 , 0.73099416, 1.4385966 , 0.09356727],\n",
              "      dtype=float32)"
            ]
          },
          "metadata": {},
          "execution_count": 13
        }
      ]
    },
    {
      "cell_type": "markdown",
      "source": [
        "Quinto Literal"
      ],
      "metadata": {
        "id": "lwFt26ETgH1P"
      }
    },
    {
      "cell_type": "markdown",
      "source": [
        "X1 – X2 + 𝛼 x3 = -2\\\n",
        "-X1 + 2X2 – 𝛼 x3 = 3\\\n",
        "𝛼 x1 + X2 + X3 = 2\n"
      ],
      "metadata": {
        "id": "iZ88WrLFgQBV"
      }
    },
    {
      "cell_type": "markdown",
      "source": [
        "a) Encuentre el valor(es) de 𝛼 para los que el sistema no tiene soluciones."
      ],
      "metadata": {
        "id": "_gkF2d8KgTOS"
      }
    },
    {
      "cell_type": "markdown",
      "source": [
        "Se calculo el determinante de la matriz para igualarlo a cero y obtener los\\ valores de alpha paraque no exista solucion en el sistema de ecuaciones.\\\n",
        "det(A) = (2 + a) + (-1 + a) + a(-1 - 2a) = 0\\\n",
        "det(A) = 2a^2 - a + 1 = 0\\\n",
        "a1 = 1\\\n",
        "a2 = -1/2\\\n",
        "No existe solución para [-1/2, 1]"
      ],
      "metadata": {
        "id": "55UcY3sxi14N"
      }
    },
    {
      "cell_type": "markdown",
      "source": [
        "b. Encuentre el valor(es) de 𝛼 para los que el sistema tiene un número infinito de soluciones."
      ],
      "metadata": {
        "id": "s--a_5lujKDT"
      }
    },
    {
      "cell_type": "markdown",
      "source": [
        "Se transformo la matriz en una matriz triangular superior para asi escoger la\\ ultima fila y encontrar el valor de alpha donde toda la fila tenga ceros y por\\ ende se tenga infinitas soluciones\\\n",
        "\n",
        "1 - a^2 = 0\\\n",
        "Para los valores de [-1, 1] se tienen infinitas soluciones"
      ],
      "metadata": {
        "id": "QagA_MXrjL_f"
      }
    },
    {
      "cell_type": "markdown",
      "source": [
        "c) Suponga que existe una única solución para una a determinada, encuentre la solución."
      ],
      "metadata": {
        "id": "cUsxh2-zmCw1"
      }
    },
    {
      "cell_type": "markdown",
      "source": [
        "Asumimos el valor de alpha igual a 3"
      ],
      "metadata": {
        "id": "t_h-2OuwmE8Y"
      }
    },
    {
      "cell_type": "code",
      "source": [
        "A = [[1, -1, 3], [-1, 2, -3], [3, 1, 1]]\n",
        "b = [-2, 3, 2]\n",
        "x = np.linalg.solve(A, b)\n",
        "x\n"
      ],
      "metadata": {
        "colab": {
          "base_uri": "https://localhost:8080/"
        },
        "id": "V38gJoq_gKAG",
        "outputId": "634f6172-81a2-47c4-eae9-cb6bb76616fd"
      },
      "execution_count": 14,
      "outputs": [
        {
          "output_type": "execute_result",
          "data": {
            "text/plain": [
              "array([ 0.5,  1. , -0.5])"
            ]
          },
          "metadata": {},
          "execution_count": 14
        }
      ]
    },
    {
      "cell_type": "markdown",
      "source": [
        "Ejercicios Aplicados"
      ],
      "metadata": {
        "id": "zy9LCUmLm4KR"
      }
    },
    {
      "cell_type": "markdown",
      "source": [
        "Sexto Literal"
      ],
      "metadata": {
        "id": "kIfZXR_Gm6cp"
      }
    },
    {
      "cell_type": "markdown",
      "source": [
        "a)"
      ],
      "metadata": {
        "id": "gmaRnX3QoGVN"
      }
    },
    {
      "cell_type": "code",
      "source": [
        "A = [[1, 2, 0, 3], [1, 0, 2, 2], [0, 0, 1, 1]]\n",
        "x = [1000, 500, 350, 400]\n",
        "x = np.matmul(A, x)\n",
        "print(x)\n"
      ],
      "metadata": {
        "colab": {
          "base_uri": "https://localhost:8080/"
        },
        "id": "YjrijxHIoPp3",
        "outputId": "05806d8b-e973-413f-908d-a41788fe4c2b"
      },
      "execution_count": 15,
      "outputs": [
        {
          "output_type": "stream",
          "name": "stdout",
          "text": [
            "[3200 2500  750]\n"
          ]
        }
      ]
    },
    {
      "cell_type": "markdown",
      "source": [
        "b)"
      ],
      "metadata": {
        "id": "L1gv_ED3qQap"
      }
    },
    {
      "cell_type": "code",
      "source": [
        "A = [[1, 2, 0, 3], [1, 0, 2, 2], [0, 0, 1, 1]]\n",
        "b = [3500, 2700, 900]\n",
        "x = np.linalg.solve(A, b)\n",
        "print(x)"
      ],
      "metadata": {
        "colab": {
          "base_uri": "https://localhost:8080/",
          "height": 339
        },
        "id": "grCp1Q11qaHW",
        "outputId": "87cbc2fd-e5d5-41ff-d896-15278e435643"
      },
      "execution_count": 16,
      "outputs": [
        {
          "output_type": "error",
          "ename": "LinAlgError",
          "evalue": "Last 2 dimensions of the array must be square",
          "traceback": [
            "\u001b[0;31m---------------------------------------------------------------------------\u001b[0m",
            "\u001b[0;31mLinAlgError\u001b[0m                               Traceback (most recent call last)",
            "\u001b[0;32m<ipython-input-16-ed0d220c2f1e>\u001b[0m in \u001b[0;36m<cell line: 3>\u001b[0;34m()\u001b[0m\n\u001b[1;32m      1\u001b[0m \u001b[0mA\u001b[0m \u001b[0;34m=\u001b[0m \u001b[0;34m[\u001b[0m\u001b[0;34m[\u001b[0m\u001b[0;36m1\u001b[0m\u001b[0;34m,\u001b[0m \u001b[0;36m2\u001b[0m\u001b[0;34m,\u001b[0m \u001b[0;36m0\u001b[0m\u001b[0;34m,\u001b[0m \u001b[0;36m3\u001b[0m\u001b[0;34m]\u001b[0m\u001b[0;34m,\u001b[0m \u001b[0;34m[\u001b[0m\u001b[0;36m1\u001b[0m\u001b[0;34m,\u001b[0m \u001b[0;36m0\u001b[0m\u001b[0;34m,\u001b[0m \u001b[0;36m2\u001b[0m\u001b[0;34m,\u001b[0m \u001b[0;36m2\u001b[0m\u001b[0;34m]\u001b[0m\u001b[0;34m,\u001b[0m \u001b[0;34m[\u001b[0m\u001b[0;36m0\u001b[0m\u001b[0;34m,\u001b[0m \u001b[0;36m0\u001b[0m\u001b[0;34m,\u001b[0m \u001b[0;36m1\u001b[0m\u001b[0;34m,\u001b[0m \u001b[0;36m1\u001b[0m\u001b[0;34m]\u001b[0m\u001b[0;34m]\u001b[0m\u001b[0;34m\u001b[0m\u001b[0;34m\u001b[0m\u001b[0m\n\u001b[1;32m      2\u001b[0m \u001b[0mb\u001b[0m \u001b[0;34m=\u001b[0m \u001b[0;34m[\u001b[0m\u001b[0;36m3500\u001b[0m\u001b[0;34m,\u001b[0m \u001b[0;36m2700\u001b[0m\u001b[0;34m,\u001b[0m \u001b[0;36m900\u001b[0m\u001b[0;34m]\u001b[0m\u001b[0;34m\u001b[0m\u001b[0;34m\u001b[0m\u001b[0m\n\u001b[0;32m----> 3\u001b[0;31m \u001b[0mx\u001b[0m \u001b[0;34m=\u001b[0m \u001b[0mnp\u001b[0m\u001b[0;34m.\u001b[0m\u001b[0mlinalg\u001b[0m\u001b[0;34m.\u001b[0m\u001b[0msolve\u001b[0m\u001b[0;34m(\u001b[0m\u001b[0mA\u001b[0m\u001b[0;34m,\u001b[0m \u001b[0mb\u001b[0m\u001b[0;34m)\u001b[0m\u001b[0;34m\u001b[0m\u001b[0;34m\u001b[0m\u001b[0m\n\u001b[0m\u001b[1;32m      4\u001b[0m \u001b[0mprint\u001b[0m\u001b[0;34m(\u001b[0m\u001b[0mx\u001b[0m\u001b[0;34m)\u001b[0m\u001b[0;34m\u001b[0m\u001b[0;34m\u001b[0m\u001b[0m\n",
            "\u001b[0;32m/usr/local/lib/python3.10/dist-packages/numpy/linalg/linalg.py\u001b[0m in \u001b[0;36msolve\u001b[0;34m(a, b)\u001b[0m\n\u001b[1;32m    394\u001b[0m     \u001b[0ma\u001b[0m\u001b[0;34m,\u001b[0m \u001b[0m_\u001b[0m \u001b[0;34m=\u001b[0m \u001b[0m_makearray\u001b[0m\u001b[0;34m(\u001b[0m\u001b[0ma\u001b[0m\u001b[0;34m)\u001b[0m\u001b[0;34m\u001b[0m\u001b[0;34m\u001b[0m\u001b[0m\n\u001b[1;32m    395\u001b[0m     \u001b[0m_assert_stacked_2d\u001b[0m\u001b[0;34m(\u001b[0m\u001b[0ma\u001b[0m\u001b[0;34m)\u001b[0m\u001b[0;34m\u001b[0m\u001b[0;34m\u001b[0m\u001b[0m\n\u001b[0;32m--> 396\u001b[0;31m     \u001b[0m_assert_stacked_square\u001b[0m\u001b[0;34m(\u001b[0m\u001b[0ma\u001b[0m\u001b[0;34m)\u001b[0m\u001b[0;34m\u001b[0m\u001b[0;34m\u001b[0m\u001b[0m\n\u001b[0m\u001b[1;32m    397\u001b[0m     \u001b[0mb\u001b[0m\u001b[0;34m,\u001b[0m \u001b[0mwrap\u001b[0m \u001b[0;34m=\u001b[0m \u001b[0m_makearray\u001b[0m\u001b[0;34m(\u001b[0m\u001b[0mb\u001b[0m\u001b[0;34m)\u001b[0m\u001b[0;34m\u001b[0m\u001b[0;34m\u001b[0m\u001b[0m\n\u001b[1;32m    398\u001b[0m     \u001b[0mt\u001b[0m\u001b[0;34m,\u001b[0m \u001b[0mresult_t\u001b[0m \u001b[0;34m=\u001b[0m \u001b[0m_commonType\u001b[0m\u001b[0;34m(\u001b[0m\u001b[0ma\u001b[0m\u001b[0;34m,\u001b[0m \u001b[0mb\u001b[0m\u001b[0;34m)\u001b[0m\u001b[0;34m\u001b[0m\u001b[0;34m\u001b[0m\u001b[0m\n",
            "\u001b[0;32m/usr/local/lib/python3.10/dist-packages/numpy/linalg/linalg.py\u001b[0m in \u001b[0;36m_assert_stacked_square\u001b[0;34m(*arrays)\u001b[0m\n\u001b[1;32m    211\u001b[0m         \u001b[0mm\u001b[0m\u001b[0;34m,\u001b[0m \u001b[0mn\u001b[0m \u001b[0;34m=\u001b[0m \u001b[0ma\u001b[0m\u001b[0;34m.\u001b[0m\u001b[0mshape\u001b[0m\u001b[0;34m[\u001b[0m\u001b[0;34m-\u001b[0m\u001b[0;36m2\u001b[0m\u001b[0;34m:\u001b[0m\u001b[0;34m]\u001b[0m\u001b[0;34m\u001b[0m\u001b[0;34m\u001b[0m\u001b[0m\n\u001b[1;32m    212\u001b[0m         \u001b[0;32mif\u001b[0m \u001b[0mm\u001b[0m \u001b[0;34m!=\u001b[0m \u001b[0mn\u001b[0m\u001b[0;34m:\u001b[0m\u001b[0;34m\u001b[0m\u001b[0;34m\u001b[0m\u001b[0m\n\u001b[0;32m--> 213\u001b[0;31m             \u001b[0;32mraise\u001b[0m \u001b[0mLinAlgError\u001b[0m\u001b[0;34m(\u001b[0m\u001b[0;34m'Last 2 dimensions of the array must be square'\u001b[0m\u001b[0;34m)\u001b[0m\u001b[0;34m\u001b[0m\u001b[0;34m\u001b[0m\u001b[0m\n\u001b[0m\u001b[1;32m    214\u001b[0m \u001b[0;34m\u001b[0m\u001b[0m\n\u001b[1;32m    215\u001b[0m \u001b[0;32mdef\u001b[0m \u001b[0m_assert_finite\u001b[0m\u001b[0;34m(\u001b[0m\u001b[0;34m*\u001b[0m\u001b[0marrays\u001b[0m\u001b[0;34m)\u001b[0m\u001b[0;34m:\u001b[0m\u001b[0;34m\u001b[0m\u001b[0;34m\u001b[0m\u001b[0m\n",
            "\u001b[0;31mLinAlgError\u001b[0m: Last 2 dimensions of the array must be square"
          ]
        }
      ]
    },
    {
      "cell_type": "markdown",
      "source": [
        "Creí que era de esta manera, pero no. Lo hice de manera analítica, que como resultado, la especie 1 puede llegar hasta 1800 integrantes. La especie 2, 3 y 4 dependen de ellas mismas. No se puede determinar de forma exacta ya que hay muchas distribuciones posibles"
      ],
      "metadata": {
        "id": "uRUI5OCKrBU7"
      }
    },
    {
      "cell_type": "markdown",
      "source": [
        "c)"
      ],
      "metadata": {
        "id": "TNb9-44DrD3a"
      }
    },
    {
      "cell_type": "code",
      "source": [
        "\n",
        "A = [[2, 0, 3], [0, 2, 2], [0, 1, 1]]\n",
        "b = [3500, 2700, 900]\n",
        "x = np.linalg.solve(A, b)\n",
        "print(x)"
      ],
      "metadata": {
        "colab": {
          "base_uri": "https://localhost:8080/",
          "height": 339
        },
        "id": "CoNvawTJrclG",
        "outputId": "567ee16d-79d4-4235-bad9-9724f8bf5e86"
      },
      "execution_count": 17,
      "outputs": [
        {
          "output_type": "error",
          "ename": "LinAlgError",
          "evalue": "Singular matrix",
          "traceback": [
            "\u001b[0;31m---------------------------------------------------------------------------\u001b[0m",
            "\u001b[0;31mLinAlgError\u001b[0m                               Traceback (most recent call last)",
            "\u001b[0;32m<ipython-input-17-d8efdac5930a>\u001b[0m in \u001b[0;36m<cell line: 3>\u001b[0;34m()\u001b[0m\n\u001b[1;32m      1\u001b[0m \u001b[0mA\u001b[0m \u001b[0;34m=\u001b[0m \u001b[0;34m[\u001b[0m\u001b[0;34m[\u001b[0m\u001b[0;36m2\u001b[0m\u001b[0;34m,\u001b[0m \u001b[0;36m0\u001b[0m\u001b[0;34m,\u001b[0m \u001b[0;36m3\u001b[0m\u001b[0;34m]\u001b[0m\u001b[0;34m,\u001b[0m \u001b[0;34m[\u001b[0m\u001b[0;36m0\u001b[0m\u001b[0;34m,\u001b[0m \u001b[0;36m2\u001b[0m\u001b[0;34m,\u001b[0m \u001b[0;36m2\u001b[0m\u001b[0;34m]\u001b[0m\u001b[0;34m,\u001b[0m \u001b[0;34m[\u001b[0m\u001b[0;36m0\u001b[0m\u001b[0;34m,\u001b[0m \u001b[0;36m1\u001b[0m\u001b[0;34m,\u001b[0m \u001b[0;36m1\u001b[0m\u001b[0;34m]\u001b[0m\u001b[0;34m]\u001b[0m\u001b[0;34m\u001b[0m\u001b[0;34m\u001b[0m\u001b[0m\n\u001b[1;32m      2\u001b[0m \u001b[0mb\u001b[0m \u001b[0;34m=\u001b[0m \u001b[0;34m[\u001b[0m\u001b[0;36m3500\u001b[0m\u001b[0;34m,\u001b[0m \u001b[0;36m2700\u001b[0m\u001b[0;34m,\u001b[0m \u001b[0;36m900\u001b[0m\u001b[0;34m]\u001b[0m\u001b[0;34m\u001b[0m\u001b[0;34m\u001b[0m\u001b[0m\n\u001b[0;32m----> 3\u001b[0;31m \u001b[0mx\u001b[0m \u001b[0;34m=\u001b[0m \u001b[0mnp\u001b[0m\u001b[0;34m.\u001b[0m\u001b[0mlinalg\u001b[0m\u001b[0;34m.\u001b[0m\u001b[0msolve\u001b[0m\u001b[0;34m(\u001b[0m\u001b[0mA\u001b[0m\u001b[0;34m,\u001b[0m \u001b[0mb\u001b[0m\u001b[0;34m)\u001b[0m\u001b[0;34m\u001b[0m\u001b[0;34m\u001b[0m\u001b[0m\n\u001b[0m\u001b[1;32m      4\u001b[0m \u001b[0mprint\u001b[0m\u001b[0;34m(\u001b[0m\u001b[0mx\u001b[0m\u001b[0;34m)\u001b[0m\u001b[0;34m\u001b[0m\u001b[0;34m\u001b[0m\u001b[0m\n",
            "\u001b[0;32m/usr/local/lib/python3.10/dist-packages/numpy/linalg/linalg.py\u001b[0m in \u001b[0;36msolve\u001b[0;34m(a, b)\u001b[0m\n\u001b[1;32m    407\u001b[0m     \u001b[0msignature\u001b[0m \u001b[0;34m=\u001b[0m \u001b[0;34m'DD->D'\u001b[0m \u001b[0;32mif\u001b[0m \u001b[0misComplexType\u001b[0m\u001b[0;34m(\u001b[0m\u001b[0mt\u001b[0m\u001b[0;34m)\u001b[0m \u001b[0;32melse\u001b[0m \u001b[0;34m'dd->d'\u001b[0m\u001b[0;34m\u001b[0m\u001b[0;34m\u001b[0m\u001b[0m\n\u001b[1;32m    408\u001b[0m     \u001b[0mextobj\u001b[0m \u001b[0;34m=\u001b[0m \u001b[0mget_linalg_error_extobj\u001b[0m\u001b[0;34m(\u001b[0m\u001b[0m_raise_linalgerror_singular\u001b[0m\u001b[0;34m)\u001b[0m\u001b[0;34m\u001b[0m\u001b[0;34m\u001b[0m\u001b[0m\n\u001b[0;32m--> 409\u001b[0;31m     \u001b[0mr\u001b[0m \u001b[0;34m=\u001b[0m \u001b[0mgufunc\u001b[0m\u001b[0;34m(\u001b[0m\u001b[0ma\u001b[0m\u001b[0;34m,\u001b[0m \u001b[0mb\u001b[0m\u001b[0;34m,\u001b[0m \u001b[0msignature\u001b[0m\u001b[0;34m=\u001b[0m\u001b[0msignature\u001b[0m\u001b[0;34m,\u001b[0m \u001b[0mextobj\u001b[0m\u001b[0;34m=\u001b[0m\u001b[0mextobj\u001b[0m\u001b[0;34m)\u001b[0m\u001b[0;34m\u001b[0m\u001b[0;34m\u001b[0m\u001b[0m\n\u001b[0m\u001b[1;32m    410\u001b[0m \u001b[0;34m\u001b[0m\u001b[0m\n\u001b[1;32m    411\u001b[0m     \u001b[0;32mreturn\u001b[0m \u001b[0mwrap\u001b[0m\u001b[0;34m(\u001b[0m\u001b[0mr\u001b[0m\u001b[0;34m.\u001b[0m\u001b[0mastype\u001b[0m\u001b[0;34m(\u001b[0m\u001b[0mresult_t\u001b[0m\u001b[0;34m,\u001b[0m \u001b[0mcopy\u001b[0m\u001b[0;34m=\u001b[0m\u001b[0;32mFalse\u001b[0m\u001b[0;34m)\u001b[0m\u001b[0;34m)\u001b[0m\u001b[0;34m\u001b[0m\u001b[0;34m\u001b[0m\u001b[0m\n",
            "\u001b[0;32m/usr/local/lib/python3.10/dist-packages/numpy/linalg/linalg.py\u001b[0m in \u001b[0;36m_raise_linalgerror_singular\u001b[0;34m(err, flag)\u001b[0m\n\u001b[1;32m    110\u001b[0m \u001b[0;34m\u001b[0m\u001b[0m\n\u001b[1;32m    111\u001b[0m \u001b[0;32mdef\u001b[0m \u001b[0m_raise_linalgerror_singular\u001b[0m\u001b[0;34m(\u001b[0m\u001b[0merr\u001b[0m\u001b[0;34m,\u001b[0m \u001b[0mflag\u001b[0m\u001b[0;34m)\u001b[0m\u001b[0;34m:\u001b[0m\u001b[0;34m\u001b[0m\u001b[0;34m\u001b[0m\u001b[0m\n\u001b[0;32m--> 112\u001b[0;31m     \u001b[0;32mraise\u001b[0m \u001b[0mLinAlgError\u001b[0m\u001b[0;34m(\u001b[0m\u001b[0;34m\"Singular matrix\"\u001b[0m\u001b[0;34m)\u001b[0m\u001b[0;34m\u001b[0m\u001b[0;34m\u001b[0m\u001b[0m\n\u001b[0m\u001b[1;32m    113\u001b[0m \u001b[0;34m\u001b[0m\u001b[0m\n\u001b[1;32m    114\u001b[0m \u001b[0;32mdef\u001b[0m \u001b[0m_raise_linalgerror_nonposdef\u001b[0m\u001b[0;34m(\u001b[0m\u001b[0merr\u001b[0m\u001b[0;34m,\u001b[0m \u001b[0mflag\u001b[0m\u001b[0;34m)\u001b[0m\u001b[0;34m:\u001b[0m\u001b[0;34m\u001b[0m\u001b[0;34m\u001b[0m\u001b[0m\n",
            "\u001b[0;31mLinAlgError\u001b[0m: Singular matrix"
          ]
        }
      ]
    },
    {
      "cell_type": "markdown",
      "source": [
        "d)"
      ],
      "metadata": {
        "id": "ZcTxUzA2sCDu"
      }
    },
    {
      "cell_type": "code",
      "source": [
        "\n",
        "A = [[1, 0, 3], [1, 2, 2], [0, 1, 1]]\n",
        "b = [3500, 2700, 900]\n",
        "x = np.linalg.solve(A, b)\n",
        "print(x)\n"
      ],
      "metadata": {
        "colab": {
          "base_uri": "https://localhost:8080/"
        },
        "id": "RrRhdspVsDOc",
        "outputId": "b1fa498e-8979-46db-de18-74813ea594a3"
      },
      "execution_count": 18,
      "outputs": [
        {
          "output_type": "stream",
          "name": "stdout",
          "text": [
            "[900.          33.33333333 866.66666667]\n"
          ]
        }
      ]
    },
    {
      "cell_type": "markdown",
      "source": [
        "Especie 1: 900, especie 2: 33, especie 3: 866"
      ],
      "metadata": {
        "id": "rPBFBdJgtJpk"
      }
    },
    {
      "cell_type": "markdown",
      "source": [
        "Ejercicios Teoricos"
      ],
      "metadata": {
        "id": "Cx-BEftntuLn"
      }
    },
    {
      "cell_type": "markdown",
      "source": [
        "7. Repita el ejercicio 4 con el método Gauss – Jordan."
      ],
      "metadata": {
        "id": "4yUwwzkWt2Mb"
      }
    },
    {
      "cell_type": "code",
      "source": [
        "import numpy as np\n",
        "\n",
        "def gauss_jordan(A: np.ndarray) -> np.ndarray:\n",
        "    \"\"\"Resuelve un sistema de ecuaciones lineales mediante el método de Gauss-Jordan.\n",
        "\n",
        "    ## Parameters\n",
        "\n",
        "    ``A``: matriz aumentada del sistema de ecuaciones lineales. Debe ser de tamaño n-by-(n+1), donde n es el número de incógnitas.\n",
        "\n",
        "    ## Return\n",
        "\n",
        "    ``solucion``: vector con la solución del sistema de ecuaciones lineales.\n",
        "\n",
        "    \"\"\"\n",
        "    A = np.array(A, dtype=float)  # convertir en float, porque si no, convierte en enteros\n",
        "    assert A.shape[0] == A.shape[1] - 1, \"La matriz A debe ser de tamaño n-by-(n+1).\"\n",
        "    n = A.shape[0]\n",
        "    n_adds = 0\n",
        "    n_mults = 0\n",
        "    for i in range(0, n):  # loop por columna\n",
        "\n",
        "        # --- encontrar pivote\n",
        "        p = None  # default, first element\n",
        "        for pi in range(i, n):\n",
        "            if A[pi, i] == 0:\n",
        "                # must be nonzero\n",
        "                continue\n",
        "\n",
        "            if p is None:\n",
        "                # first nonzero element\n",
        "                p = pi\n",
        "                continue\n",
        "\n",
        "            if abs(A[pi, i]) < abs(A[p, i]):\n",
        "                p = pi\n",
        "\n",
        "        if p is None:\n",
        "            # no pivot found.\n",
        "            logging.info(f\"\\n{A}\")\n",
        "            raise ValueError(\"No existe solución única.\")\n",
        "\n",
        "        if p != i:\n",
        "            print(f\"Intercambiando filas {i} y {p}.\")\n",
        "            # swap rows\n",
        "            _aux = A[i, :].copy()\n",
        "            A[i, :] = A[p, :].copy()\n",
        "            A[p, :] = _aux\n",
        "\n",
        "        # --- Eliminación: loop por fila\n",
        "        for j in range(n):\n",
        "            if i == j:\n",
        "                continue\n",
        "            m = A[j, i] / A[i, i]\n",
        "            A[j, i:] = A[j, i:] - m * A[i, i:]\n",
        "            n_mults += 1 + (n + 1 - i - 1)\n",
        "            n_adds += n + 1 - i - 1\n",
        "\n",
        "        print(f\"\\n{A}\")\n",
        "\n",
        "    if A[n - 1, n - 1] == 0:\n",
        "        # Sin embargo, esto solo se accede al finalizar la matriz... Con todos los pivotes\n",
        "        if A[n - 1, n] == 0:\n",
        "            raise ValueError(\"Infinitas soluciones.\")\n",
        "        else:\n",
        "            raise ValueError(\"Sin solución.\")\n",
        "\n",
        "    # --- Sustitución hacia atrás\n",
        "    solucion = np.zeros(n)\n",
        "    for i in range(n):\n",
        "        solucion[i] = A[i, n] / A[i, i]\n",
        "        n_mults += 1\n",
        "\n",
        "    return solucion, n_adds, n_mults"
      ],
      "metadata": {
        "id": "B44OHQCRt470"
      },
      "execution_count": 26,
      "outputs": []
    },
    {
      "cell_type": "markdown",
      "source": [
        "a)"
      ],
      "metadata": {
        "id": "d_PytNXWwHKE"
      }
    },
    {
      "cell_type": "code",
      "source": [
        "A = np.array([[1/4, 1/5, 1/6, 9], [1/3, 1/4, 1/5, 8], [1/2, 1, 2, 8]], dtype=np.float32)\n",
        "solucion = gauss_jordan(A)\n",
        "solucion"
      ],
      "metadata": {
        "colab": {
          "base_uri": "https://localhost:8080/"
        },
        "id": "MBsGjSIFwFX5",
        "outputId": "2a13c070-defb-4360-dfde-069e56ac5fa8"
      },
      "execution_count": 24,
      "outputs": [
        {
          "output_type": "stream",
          "name": "stdout",
          "text": [
            "\n",
            "[[  0.25         0.2          0.16666667   9.        ]\n",
            " [  0.          -0.01666668  -0.02222223  -4.00000036]\n",
            " [  0.           0.59999999   1.66666666 -10.        ]]\n",
            "\n",
            "[[ 2.50000000e-01  0.00000000e+00 -9.99999315e-02 -3.89999707e+01]\n",
            " [ 0.00000000e+00 -1.66666786e-02 -2.22222325e-02 -4.00000036e+00]\n",
            " [ 0.00000000e+00  0.00000000e+00  8.66666867e-01 -1.53999908e+02]]\n",
            "\n",
            "[[ 2.50000000e-01  0.00000000e+00  0.00000000e+00 -5.67691746e+01]\n",
            " [ 0.00000000e+00 -1.66666786e-02  0.00000000e+00 -7.94871687e+00]\n",
            " [ 0.00000000e+00  0.00000000e+00  8.66666867e-01 -1.53999908e+02]]\n"
          ]
        },
        {
          "output_type": "execute_result",
          "data": {
            "text/plain": [
              "(array([-227.07669834,  476.92267099, -177.69216091]), 12, 21)"
            ]
          },
          "metadata": {},
          "execution_count": 24
        }
      ]
    },
    {
      "cell_type": "markdown",
      "source": [
        "b)"
      ],
      "metadata": {
        "id": "9RrjRCVDysqa"
      }
    },
    {
      "cell_type": "code",
      "source": [
        "A = np.array([[3.333, 15920, 10.333, 15913], [2.222, 16.71, 9.612, 28.544], [1.5611, 5.1791, 1.6852, 8.4254]], dtype=np.float32)\n",
        "solucion = gauss_jordan(A)\n",
        "solucion"
      ],
      "metadata": {
        "colab": {
          "base_uri": "https://localhost:8080/"
        },
        "id": "iq6lTAU4ytpG",
        "outputId": "92b22a6b-3302-4b8b-885d-fec9038ee57c"
      },
      "execution_count": 27,
      "outputs": [
        {
          "output_type": "stream",
          "name": "stdout",
          "text": [
            "Intercambiando filas 0 y 2.\n",
            "\n",
            "[[1.56110001e+00 5.17910004e+00 1.68519998e+00 8.42539978e+00]\n",
            " [0.00000000e+00 9.33829988e+00 7.21336224e+00 1.65516636e+01]\n",
            " [0.00000000e+00 1.59089425e+04 6.73504271e+00 1.58950115e+04]]\n",
            "\n",
            "[[ 1.56110001e+00  0.00000000e+00 -2.31539169e+00 -7.54292769e-01]\n",
            " [ 0.00000000e+00  9.33829988e+00  7.21336224e+00  1.65516636e+01]\n",
            " [ 0.00000000e+00  0.00000000e+00 -1.22821148e+04 -1.23027834e+04]]\n",
            "\n",
            "[[ 1.56110001e+00  0.00000000e+00  0.00000000e+00  1.56499531e+00]\n",
            " [ 0.00000000e+00  9.33829988e+00  0.00000000e+00  9.32616261e+00]\n",
            " [ 0.00000000e+00  0.00000000e+00 -1.22821148e+04 -1.23027834e+04]]\n"
          ]
        },
        {
          "output_type": "execute_result",
          "data": {
            "text/plain": [
              "(array([1.00249523, 0.99870027, 1.00168282]), 12, 21)"
            ]
          },
          "metadata": {},
          "execution_count": 27
        }
      ]
    },
    {
      "cell_type": "markdown",
      "source": [
        "c)"
      ],
      "metadata": {
        "id": "2ovZEtX1zGRW"
      }
    },
    {
      "cell_type": "code",
      "source": [
        "A = np.array([[1, 1/2, 1/3, 1/4, 1/6], [1/2, 1/3, 1/4, 1/5, 1/7], [1/3, 1/4, 1/5, 1/6, 1/8], [1/4, 1/5, 1/6, 1/7, 1/9]], dtype=np.float32)\n",
        "solucion = gauss_jordan(A)\n",
        "solucion"
      ],
      "metadata": {
        "colab": {
          "base_uri": "https://localhost:8080/"
        },
        "id": "rcu3Tye9zHXn",
        "outputId": "4814b8f1-9f8f-428b-9580-7bec1e22b031"
      },
      "execution_count": 28,
      "outputs": [
        {
          "output_type": "stream",
          "name": "stdout",
          "text": [
            "Intercambiando filas 0 y 3.\n",
            "\n",
            "[[ 0.25        0.2         0.16666667  0.14285715  0.11111111]\n",
            " [ 0.         -0.06666666 -0.08333334 -0.0857143  -0.07936507]\n",
            " [ 0.         -0.01666668 -0.02222223 -0.02380953 -0.02314815]\n",
            " [ 0.         -0.30000001 -0.33333334 -0.3214286  -0.27777778]]\n",
            "Intercambiando filas 1 y 2.\n",
            "\n",
            "[[ 0.25        0.         -0.09999993 -0.14285705 -0.16666654]\n",
            " [ 0.         -0.01666668 -0.02222223 -0.02380953 -0.02314815]\n",
            " [ 0.          0.          0.00555552  0.00952376  0.01322747]\n",
            " [ 0.          0.          0.06666657  0.10714271  0.13888871]]\n",
            "\n",
            "[[ 0.25        0.          0.          0.02857173  0.07142935]\n",
            " [ 0.         -0.01666668  0.          0.01428579  0.0297621 ]\n",
            " [ 0.          0.          0.00555552  0.00952376  0.01322747]\n",
            " [ 0.          0.          0.         -0.00714306 -0.01984176]]\n",
            "\n",
            "[[ 0.25        0.          0.          0.         -0.0079363 ]\n",
            " [ 0.         -0.01666668  0.          0.         -0.00992052]\n",
            " [ 0.          0.          0.00555552  0.         -0.01322734]\n",
            " [ 0.          0.          0.         -0.00714306 -0.01984176]]\n"
          ]
        },
        {
          "output_type": "execute_result",
          "data": {
            "text/plain": [
              "(array([-0.03174521,  0.59523101, -2.38093701,  2.77776827]), 30, 46)"
            ]
          },
          "metadata": {},
          "execution_count": 28
        }
      ]
    },
    {
      "cell_type": "markdown",
      "source": [
        "d)"
      ],
      "metadata": {
        "id": "kbEVr9yPzgK7"
      }
    },
    {
      "cell_type": "code",
      "source": [
        "A = np.array([[2, 1, -1, 1, -3, 7], [1, 0, 2, -1, 1, 2], [0, -2, -1, 1, -1, -5], [3, 1, -4, 0, 5, 6],[1, -1, -1, -1, 1, -3]], dtype=np.float32)\n",
        "solucion = gauss_jordan(A)\n",
        "solucion\n"
      ],
      "metadata": {
        "colab": {
          "base_uri": "https://localhost:8080/"
        },
        "id": "UCwHi_JmzhIV",
        "outputId": "068b4e65-8513-4250-fbe5-29093ec1d468"
      },
      "execution_count": 29,
      "outputs": [
        {
          "output_type": "stream",
          "name": "stdout",
          "text": [
            "Intercambiando filas 0 y 1.\n",
            "\n",
            "[[  1.   0.   2.  -1.   1.   2.]\n",
            " [  0.   1.  -5.   3.  -5.   3.]\n",
            " [  0.  -2.  -1.   1.  -1.  -5.]\n",
            " [  0.   1. -10.   3.   2.   0.]\n",
            " [  0.  -1.  -3.   0.   0.  -5.]]\n",
            "\n",
            "[[  1.   0.   2.  -1.   1.   2.]\n",
            " [  0.   1.  -5.   3.  -5.   3.]\n",
            " [  0.   0. -11.   7. -11.   1.]\n",
            " [  0.   0.  -5.   0.   7.  -3.]\n",
            " [  0.   0.  -8.   3.  -5.  -2.]]\n",
            "Intercambiando filas 2 y 3.\n",
            "\n",
            "[[  1.    0.    0.   -1.    3.8   0.8]\n",
            " [  0.    1.    0.    3.  -12.    6. ]\n",
            " [  0.    0.   -5.    0.    7.   -3. ]\n",
            " [  0.    0.    0.    7.  -26.4   7.6]\n",
            " [  0.    0.    0.    3.  -16.2   2.8]]\n",
            "Intercambiando filas 3 y 4.\n",
            "\n",
            "[[  1.           0.           0.           0.          -1.6\n",
            "    1.73333333]\n",
            " [  0.           1.           0.           0.           4.2\n",
            "    3.2       ]\n",
            " [  0.           0.          -5.           0.           7.\n",
            "   -3.        ]\n",
            " [  0.           0.           0.           3.         -16.2\n",
            "    2.8       ]\n",
            " [  0.           0.           0.           0.          11.4\n",
            "    1.06666667]]\n",
            "\n",
            "[[ 1.00000000e+00  0.00000000e+00  0.00000000e+00  0.00000000e+00\n",
            "  -2.22044605e-16  1.88304094e+00]\n",
            " [ 0.00000000e+00  1.00000000e+00  0.00000000e+00  0.00000000e+00\n",
            "   0.00000000e+00  2.80701754e+00]\n",
            " [ 0.00000000e+00  0.00000000e+00 -5.00000000e+00  0.00000000e+00\n",
            "   0.00000000e+00 -3.65497076e+00]\n",
            " [ 0.00000000e+00  0.00000000e+00  0.00000000e+00  3.00000000e+00\n",
            "   0.00000000e+00  4.31578947e+00]\n",
            " [ 0.00000000e+00  0.00000000e+00  0.00000000e+00  0.00000000e+00\n",
            "   1.14000000e+01  1.06666667e+00]]\n"
          ]
        },
        {
          "output_type": "execute_result",
          "data": {
            "text/plain": [
              "(array([1.88304094, 2.80701754, 0.73099415, 1.43859649, 0.09356725]), 60, 85)"
            ]
          },
          "metadata": {},
          "execution_count": 29
        }
      ]
    }
  ],
  "metadata": {
    "colab": {
      "provenance": [],
      "authorship_tag": "ABX9TyNoqXlfF++N7ena1DJ71gsw",
      "include_colab_link": true
    },
    "kernelspec": {
      "display_name": "Python 3",
      "name": "python3"
    },
    "language_info": {
      "name": "python"
    }
  },
  "nbformat": 4,
  "nbformat_minor": 0
}